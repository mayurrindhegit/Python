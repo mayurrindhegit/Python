{
 "cells": [
  {
   "cell_type": "markdown",
   "metadata": {},
   "source": [
    " Creator: Mayur Rindhe"
   ]
  },
  {
   "cell_type": "markdown",
   "metadata": {
    "id": "z5PidWKJw58L"
   },
   "source": [
    "# **Variable**"
   ]
  },
  {
   "cell_type": "markdown",
   "metadata": {
    "id": "W3BI6it5xBa7"
   },
   "source": [
    "**Variables are containers that can hold any data**"
   ]
  },
  {
   "cell_type": "code",
   "execution_count": null,
   "metadata": {
    "colab": {
     "base_uri": "https://localhost:8080/"
    },
    "id": "6q1oeCbbwnmf",
    "outputId": "e54b7e51-df46-4cdf-837d-af6b2cdfe815"
   },
   "outputs": [
    {
     "name": "stdout",
     "output_type": "stream",
     "text": [
      "Total Rent is : 3720\n"
     ]
    }
   ],
   "source": [
    "# left side of assignment operator is variable name and on right side of it is value of variable\n",
    "rent = 1500 # here 'rent' is a variable\n",
    "gas = 720\n",
    "grocery = 1500\n",
    "\n",
    "total_rent = rent + gas + grocery\n",
    "\n",
    "print(\"Total Rent is :\",total_rent)"
   ]
  },
  {
   "cell_type": "code",
   "execution_count": null,
   "metadata": {
    "colab": {
     "base_uri": "https://localhost:8080/"
    },
    "id": "xQqze5aiwnmu",
    "outputId": "f358bb94-3799-460a-af73-a7905cd51535"
   },
   "outputs": [
    {
     "name": "stdout",
     "output_type": "stream",
     "text": [
      "Total Rent is : 3920\n"
     ]
    }
   ],
   "source": [
    "#variable are called variable because value in variable can vary\n",
    "rent = 1700\n",
    "\n",
    "total_rent = rent+gas+grocery\n",
    "print(\"Total Rent is :\",total_rent)"
   ]
  },
  {
   "cell_type": "code",
   "execution_count": null,
   "metadata": {
    "colab": {
     "base_uri": "https://localhost:8080/"
    },
    "id": "EKGLH4v7wnmv",
    "outputId": "aab0abec-c719-40c8-eb77-573c8bd79e3d"
   },
   "outputs": [
    {
     "name": "stdout",
     "output_type": "stream",
     "text": [
      "hello, hi my name is Mayur\n"
     ]
    }
   ],
   "source": [
    "a=\"hi\"\n",
    "b=\"my name is\"\n",
    "c=\"Mayur\"\n",
    "print(\"hello,\",a,b,c)"
   ]
  },
  {
   "cell_type": "markdown",
   "metadata": {
    "id": "gfwnJNlcy3je"
   },
   "source": [
    "**variable name should not be keywords** \n",
    "\n",
    "**variable should not contains special character except \"_\"**"
   ]
  },
  {
   "cell_type": "code",
   "execution_count": null,
   "metadata": {
    "id": "TtD60NVrwnmw"
   },
   "outputs": [],
   "source": []
  },
  {
   "cell_type": "markdown",
   "metadata": {
    "id": "jwx87yBbzKG9"
   },
   "source": [
    "# **Numbers**"
   ]
  },
  {
   "cell_type": "markdown",
   "metadata": {
    "id": "AG0ygVsv8Xam"
   },
   "source": [
    " **# is used for single line comment**\n",
    "\n",
    "' ' ' this is used \n",
    "\n",
    "for multiline comment ' ' '"
   ]
  },
  {
   "cell_type": "code",
   "execution_count": null,
   "metadata": {
    "colab": {
     "base_uri": "https://localhost:8080/"
    },
    "id": "w6LE6sh-zktf",
    "outputId": "cb82df18-b76f-48c4-9dce-c8fb8b454380"
   },
   "outputs": [
    {
     "data": {
      "text/plain": [
       "53"
      ]
     },
     "execution_count": 15,
     "metadata": {
      "tags": []
     },
     "output_type": "execute_result"
    }
   ],
   "source": [
    "#python as calculator\n",
    "\n",
    "5+48 # addition "
   ]
  },
  {
   "cell_type": "code",
   "execution_count": null,
   "metadata": {
    "colab": {
     "base_uri": "https://localhost:8080/"
    },
    "id": "trKiYAVKzkt0",
    "outputId": "10c00db1-25bf-46ef-da24-13e0496711c4"
   },
   "outputs": [
    {
     "data": {
      "text/plain": [
       "15"
      ]
     },
     "execution_count": 8,
     "metadata": {
      "tags": []
     },
     "output_type": "execute_result"
    }
   ],
   "source": [
    "20-5 # substraction"
   ]
  },
  {
   "cell_type": "code",
   "execution_count": null,
   "metadata": {
    "colab": {
     "base_uri": "https://localhost:8080/"
    },
    "id": "zwm5AX5Szkt5",
    "outputId": "0371a300-1c1f-4496-d7e8-de0cc137e432"
   },
   "outputs": [
    {
     "data": {
      "text/plain": [
       "30"
      ]
     },
     "execution_count": 11,
     "metadata": {
      "tags": []
     },
     "output_type": "execute_result"
    }
   ],
   "source": [
    "10*3 # multiplication"
   ]
  },
  {
   "cell_type": "code",
   "execution_count": null,
   "metadata": {
    "colab": {
     "base_uri": "https://localhost:8080/"
    },
    "id": "7QlmVWkrzkt3",
    "outputId": "8b9e5c5d-7a2a-44d6-ab9a-202167c878d0"
   },
   "outputs": [
    {
     "data": {
      "text/plain": [
       "3.3333333333333335"
      ]
     },
     "execution_count": 12,
     "metadata": {
      "tags": []
     },
     "output_type": "execute_result"
    }
   ],
   "source": [
    "10/3 # devision"
   ]
  },
  {
   "cell_type": "code",
   "execution_count": null,
   "metadata": {
    "colab": {
     "base_uri": "https://localhost:8080/"
    },
    "id": "qrX1x5nOzkt7",
    "outputId": "af3626cd-ff50-4c78-b38c-dafda5434cb5"
   },
   "outputs": [
    {
     "data": {
      "text/plain": [
       "3"
      ]
     },
     "execution_count": 14,
     "metadata": {
      "tags": []
     },
     "output_type": "execute_result"
    }
   ],
   "source": [
    "10//3 # it will gives only integer value so out of 3.333 it gives 3 and skip 0.333\n"
   ]
  },
  {
   "cell_type": "code",
   "execution_count": null,
   "metadata": {
    "colab": {
     "base_uri": "https://localhost:8080/"
    },
    "id": "BLADLWGP1VPl",
    "outputId": "ace2b002-26e7-4575-ca0d-1481d83e6f1a"
   },
   "outputs": [
    {
     "data": {
      "text/plain": [
       "1"
      ]
     },
     "execution_count": 13,
     "metadata": {
      "tags": []
     },
     "output_type": "execute_result"
    }
   ],
   "source": [
    "5%2 # get the remainder  , % is a modulus operator which returns the remainder "
   ]
  },
  {
   "cell_type": "code",
   "execution_count": null,
   "metadata": {
    "colab": {
     "base_uri": "https://localhost:8080/"
    },
    "id": "OmoK5oCS1v7I",
    "outputId": "c018c3cd-06a5-4201-aaad-da764545c6d6"
   },
   "outputs": [
    {
     "data": {
      "text/plain": [
       "25"
      ]
     },
     "execution_count": 16,
     "metadata": {
      "tags": []
     },
     "output_type": "execute_result"
    }
   ],
   "source": [
    "5**2 # get the sqaure of a number "
   ]
  },
  {
   "cell_type": "code",
   "execution_count": null,
   "metadata": {
    "id": "otKDDT7jzkt-",
    "outputId": "8b1d7ff2-6187-4255-fd49-f2c7f4b2a468"
   },
   "outputs": [
    {
     "data": {
      "text/plain": [
       "51.0771"
      ]
     },
     "execution_count": 12,
     "metadata": {
      "tags": []
     },
     "output_type": "execute_result"
    }
   ],
   "source": [
    "a = 5.51242\n",
    "b = 45.56468\n",
    "c = a+b\n",
    "c"
   ]
  },
  {
   "cell_type": "code",
   "execution_count": null,
   "metadata": {
    "id": "DyPDJg4jzkt_",
    "outputId": "7283533f-9322-404b-826e-5649cee08344"
   },
   "outputs": [
    {
     "data": {
      "text/plain": [
       "51.08"
      ]
     },
     "execution_count": 14,
     "metadata": {
      "tags": []
     },
     "output_type": "execute_result"
    }
   ],
   "source": [
    "#rounding off the answer\n",
    "round(c,2)"
   ]
  },
  {
   "cell_type": "code",
   "execution_count": null,
   "metadata": {
    "colab": {
     "base_uri": "https://localhost:8080/"
    },
    "id": "6S4Q0oMQzkuA",
    "outputId": "7fbd272a-0495-4116-a74a-79e71482bdb1"
   },
   "outputs": [
    {
     "name": "stdout",
     "output_type": "stream",
     "text": [
      "area of traingle: 165.0\n"
     ]
    }
   ],
   "source": [
    "# Area of Triangle\n",
    "base=15\n",
    "height=22\n",
    "area= 0.5*base*height\n",
    "print(\"area of traingle:\",area)"
   ]
  },
  {
   "cell_type": "markdown",
   "metadata": {
    "id": "5xrJHKum8l2y"
   },
   "source": [
    "# **STRINGS**"
   ]
  },
  {
   "cell_type": "markdown",
   "metadata": {
    "id": "2lU7wVkt87_D"
   },
   "source": [
    "**strings are used to store text data in python**\n",
    "\n",
    "**in string indexing start from 0** \n",
    "\n",
    "**'space' also has its own index value**"
   ]
  },
  {
   "cell_type": "code",
   "execution_count": null,
   "metadata": {
    "id": "miMcxyu19MIY"
   },
   "outputs": [],
   "source": [
    "text = \"Hello World\""
   ]
  },
  {
   "cell_type": "code",
   "execution_count": null,
   "metadata": {
    "colab": {
     "base_uri": "https://localhost:8080/",
     "height": 35
    },
    "id": "qA6o-bM_9MIZ",
    "outputId": "c2dd0f9b-4505-4120-f64f-5cb709083c0c"
   },
   "outputs": [
    {
     "data": {
      "application/vnd.google.colaboratory.intrinsic+json": {
       "type": "string"
      },
      "text/plain": [
       "'H'"
      ]
     },
     "execution_count": 2,
     "metadata": {
      "tags": []
     },
     "output_type": "execute_result"
    }
   ],
   "source": [
    "text[0] # this will return the character from string at position 0 (or index 0)"
   ]
  },
  {
   "cell_type": "code",
   "execution_count": null,
   "metadata": {
    "colab": {
     "base_uri": "https://localhost:8080/",
     "height": 35
    },
    "id": "PD1uEJTK9MId",
    "outputId": "945dc0a5-511e-40d8-e193-9a10badc8e8b"
   },
   "outputs": [
    {
     "data": {
      "application/vnd.google.colaboratory.intrinsic+json": {
       "type": "string"
      },
      "text/plain": [
       "' '"
      ]
     },
     "execution_count": 3,
     "metadata": {
      "tags": []
     },
     "output_type": "execute_result"
    }
   ],
   "source": [
    "text[5] # space also has a index"
   ]
  },
  {
   "cell_type": "markdown",
   "metadata": {
    "id": "ITTq1FNR94VF"
   },
   "source": [
    "There are 2 types of data structure in pyhton \n",
    "1. mutable (whose value can be change )\n",
    "2. immutable (whose value cannot be change)\n",
    "\n",
    "**List,dictionary,set are mutable data type**\n",
    "\n",
    "**number , string , tuple are immutable data types**\n",
    "\n",
    "\n",
    "\n",
    "\n"
   ]
  },
  {
   "cell_type": "code",
   "execution_count": null,
   "metadata": {
    "colab": {
     "base_uri": "https://localhost:8080/",
     "height": 35
    },
    "id": "RfIvEFBn9MIi",
    "outputId": "3c35eb43-d1b9-43f7-9dc4-d26e2fc18f31"
   },
   "outputs": [
    {
     "data": {
      "application/vnd.google.colaboratory.intrinsic+json": {
       "type": "string"
      },
      "text/plain": [
       "'Hell'"
      ]
     },
     "execution_count": 7,
     "metadata": {
      "tags": []
     },
     "output_type": "execute_result"
    }
   ],
   "source": [
    "text[0:4] # using index sub-range "
   ]
  },
  {
   "cell_type": "code",
   "execution_count": null,
   "metadata": {
    "colab": {
     "base_uri": "https://localhost:8080/",
     "height": 35
    },
    "id": "JcozSQRx9MIk",
    "outputId": "01f75b1c-c3e3-4c50-83b9-1c312236731a"
   },
   "outputs": [
    {
     "data": {
      "application/vnd.google.colaboratory.intrinsic+json": {
       "type": "string"
      },
      "text/plain": [
       "'o World'"
      ]
     },
     "execution_count": 9,
     "metadata": {
      "tags": []
     },
     "output_type": "execute_result"
    }
   ],
   "source": [
    "text[4:]"
   ]
  },
  {
   "cell_type": "code",
   "execution_count": null,
   "metadata": {
    "colab": {
     "base_uri": "https://localhost:8080/",
     "height": 35
    },
    "id": "q_tjyaqt9MIl",
    "outputId": "b1f7fde6-3d85-45cf-d77e-4c86ae677619"
   },
   "outputs": [
    {
     "data": {
      "application/vnd.google.colaboratory.intrinsic+json": {
       "type": "string"
      },
      "text/plain": [
       "'Hello'"
      ]
     },
     "execution_count": 10,
     "metadata": {
      "tags": []
     },
     "output_type": "execute_result"
    }
   ],
   "source": [
    "text[:5]"
   ]
  },
  {
   "cell_type": "code",
   "execution_count": null,
   "metadata": {
    "colab": {
     "base_uri": "https://localhost:8080/",
     "height": 35
    },
    "id": "eFuMfKvv9MIm",
    "outputId": "d2130e71-42aa-40fa-b9d5-a064775a395a"
   },
   "outputs": [
    {
     "data": {
      "application/vnd.google.colaboratory.intrinsic+json": {
       "type": "string"
      },
      "text/plain": [
       "'Hello World'"
      ]
     },
     "execution_count": 11,
     "metadata": {
      "tags": []
     },
     "output_type": "execute_result"
    }
   ],
   "source": [
    "text[:]"
   ]
  },
  {
   "cell_type": "code",
   "execution_count": null,
   "metadata": {
    "colab": {
     "base_uri": "https://localhost:8080/",
     "height": 35
    },
    "id": "pgPm2Cms9MIo",
    "outputId": "ed4515ab-533a-45d8-ce76-030d2d1cec99"
   },
   "outputs": [
    {
     "data": {
      "application/vnd.google.colaboratory.intrinsic+json": {
       "type": "string"
      },
      "text/plain": [
       "'dlroW olleH'"
      ]
     },
     "execution_count": 12,
     "metadata": {
      "tags": []
     },
     "output_type": "execute_result"
    }
   ],
   "source": [
    "#reversing string  [start:end:step]\n",
    "text[::-1]"
   ]
  },
  {
   "cell_type": "code",
   "execution_count": null,
   "metadata": {
    "colab": {
     "base_uri": "https://localhost:8080/",
     "height": 35
    },
    "id": "7ynafMWM9MIq",
    "outputId": "e91f14f5-3376-4537-91da-54ff60798481"
   },
   "outputs": [
    {
     "data": {
      "application/vnd.google.colaboratory.intrinsic+json": {
       "type": "string"
      },
      "text/plain": [
       "\"let's learn python\""
      ]
     },
     "execution_count": 13,
     "metadata": {
      "tags": []
     },
     "output_type": "execute_result"
    }
   ],
   "source": [
    "text2='let\\'s learn python'  # \\ is used to add any specific symbol\n",
    "text2"
   ]
  },
  {
   "cell_type": "code",
   "execution_count": null,
   "metadata": {
    "colab": {
     "base_uri": "https://localhost:8080/"
    },
    "id": "zF3DU2GX9MIr",
    "outputId": "827afab9-355d-4196-ba42-04b038de6c3a"
   },
   "outputs": [
    {
     "name": "stdout",
     "output_type": "stream",
     "text": [
      "Hi \n",
      "my \n",
      "name \n",
      "is \n",
      "Mayur\n"
     ]
    }
   ],
   "source": [
    "#multiline string\n",
    "\n",
    "hello='''Hi \n",
    "my \n",
    "name \n",
    "is \n",
    "Mayur'''\n",
    "print(hello)"
   ]
  },
  {
   "cell_type": "code",
   "execution_count": null,
   "metadata": {
    "colab": {
     "base_uri": "https://localhost:8080/",
     "height": 35
    },
    "id": "WsA9Xb8z9MIs",
    "outputId": "a7438915-7c3c-4e7d-a4a8-04fccb11b8b9"
   },
   "outputs": [
    {
     "data": {
      "application/vnd.google.colaboratory.intrinsic+json": {
       "type": "string"
      },
      "text/plain": [
       "'hello world'"
      ]
     },
     "execution_count": 18,
     "metadata": {
      "tags": []
     },
     "output_type": "execute_result"
    }
   ],
   "source": [
    "# concatenation of string\n",
    "s1=\"hello\"\n",
    "s2=\"world\"\n",
    "s3= s1+ \" \" +s2\n",
    "s3"
   ]
  },
  {
   "cell_type": "code",
   "execution_count": null,
   "metadata": {
    "colab": {
     "base_uri": "https://localhost:8080/",
     "height": 35
    },
    "id": "PYPw0vVN9MIw",
    "outputId": "bc61763d-1c21-43cb-f12c-2cecbc3d9195"
   },
   "outputs": [
    {
     "data": {
      "application/vnd.google.colaboratory.intrinsic+json": {
       "type": "string"
      },
      "text/plain": [
       "'The number of state in india :29'"
      ]
     },
     "execution_count": 23,
     "metadata": {
      "tags": []
     },
     "output_type": "execute_result"
    }
   ],
   "source": [
    "#typecasting\n",
    "state = \"The number of state in india :\"\n",
    "num = str(29)\n",
    "total = state + num\n",
    "total"
   ]
  },
  {
   "cell_type": "markdown",
   "metadata": {
    "id": "_Rm9RmZp_Vcz"
   },
   "source": [
    "python dont know , how to add number data type into string datatype"
   ]
  },
  {
   "cell_type": "markdown",
   "metadata": {
    "id": "rhhyKU7RAglO"
   },
   "source": [
    "# **LISTS**"
   ]
  },
  {
   "cell_type": "markdown",
   "metadata": {
    "id": "ej9idK5UAq0k"
   },
   "source": [
    "**List store the list of items in it**\n",
    "\n",
    "**List is mutable data type in python , it means its value can be modifies once assigned**"
   ]
  },
  {
   "cell_type": "code",
   "execution_count": null,
   "metadata": {
    "colab": {
     "base_uri": "https://localhost:8080/"
    },
    "id": "4A7mhtb7AZAO",
    "outputId": "d8ac10db-2940-4159-ff9a-566f3f4c3c0e"
   },
   "outputs": [
    {
     "data": {
      "text/plain": [
       "['pasta', 'biscuit', 'veg', 'parle fruity', 'maida', 'chocolate']"
      ]
     },
     "execution_count": 26,
     "metadata": {
      "tags": []
     },
     "output_type": "execute_result"
    }
   ],
   "source": [
    "#suppose you went at grocery store and you make a list \n",
    "\n",
    "items = [\"pasta\",\"biscuit\",\"veg\",\"parle fruity\",\"maida\",\"chocolate\"] \n",
    "\n",
    "items"
   ]
  },
  {
   "cell_type": "markdown",
   "metadata": {
    "id": "UIkf76XnBY6I"
   },
   "source": [
    "index are like : [0,1,2,3.....]  or [....-4,-3,-2,-1]"
   ]
  },
  {
   "cell_type": "code",
   "execution_count": null,
   "metadata": {
    "colab": {
     "base_uri": "https://localhost:8080/",
     "height": 35
    },
    "id": "nN8e4O1FAZAW",
    "outputId": "5318d5ad-e5b9-472c-a8e6-09e0f68ab217"
   },
   "outputs": [
    {
     "data": {
      "application/vnd.google.colaboratory.intrinsic+json": {
       "type": "string"
      },
      "text/plain": [
       "'veg'"
      ]
     },
     "execution_count": 28,
     "metadata": {
      "tags": []
     },
     "output_type": "execute_result"
    }
   ],
   "source": [
    "items[2]"
   ]
  },
  {
   "cell_type": "code",
   "execution_count": null,
   "metadata": {
    "id": "7Zn-jgFQAZAW"
   },
   "outputs": [],
   "source": [
    "# list are mutable data type , hence we can change the content of list\n",
    "items[3] = \"maggi\""
   ]
  },
  {
   "cell_type": "code",
   "execution_count": null,
   "metadata": {
    "colab": {
     "base_uri": "https://localhost:8080/"
    },
    "id": "pSdj-KbTAZAX",
    "outputId": "1b94e79a-7505-4de2-c532-9c5ce3621ac6"
   },
   "outputs": [
    {
     "data": {
      "text/plain": [
       "['pasta', 'biscuit', 'veg', 'maggi', 'maida', 'chocolate']"
      ]
     },
     "execution_count": 30,
     "metadata": {
      "tags": []
     },
     "output_type": "execute_result"
    }
   ],
   "source": [
    "items"
   ]
  },
  {
   "cell_type": "code",
   "execution_count": null,
   "metadata": {
    "colab": {
     "base_uri": "https://localhost:8080/"
    },
    "id": "gxQYdHQpAZAY",
    "outputId": "98fa90a4-eea9-4186-b36f-5fe3a503407e"
   },
   "outputs": [
    {
     "data": {
      "text/plain": [
       "['pasta', 'biscuit', 'veg']"
      ]
     },
     "execution_count": 31,
     "metadata": {
      "tags": []
     },
     "output_type": "execute_result"
    }
   ],
   "source": [
    "items[0:3] # here index 0 is included but index 3 is excluded "
   ]
  },
  {
   "cell_type": "code",
   "execution_count": null,
   "metadata": {
    "colab": {
     "base_uri": "https://localhost:8080/"
    },
    "id": "P4k-olmQAZAZ",
    "outputId": "a4e5a8fd-f881-4469-cdf6-eda1189ab664"
   },
   "outputs": [
    {
     "data": {
      "text/plain": [
       "['chocolate', 'maida', 'maggi', 'veg', 'biscuit', 'pasta']"
      ]
     },
     "execution_count": 32,
     "metadata": {
      "tags": []
     },
     "output_type": "execute_result"
    }
   ],
   "source": [
    "#reversing list\n",
    "items[::-1]"
   ]
  },
  {
   "cell_type": "code",
   "execution_count": null,
   "metadata": {
    "colab": {
     "base_uri": "https://localhost:8080/",
     "height": 35
    },
    "id": "PUTLIjOoAZAZ",
    "outputId": "059ca53f-b7a2-485e-964d-75c7229d7b9d"
   },
   "outputs": [
    {
     "data": {
      "application/vnd.google.colaboratory.intrinsic+json": {
       "type": "string"
      },
      "text/plain": [
       "'chocolate'"
      ]
     },
     "execution_count": 34,
     "metadata": {
      "tags": []
     },
     "output_type": "execute_result"
    }
   ],
   "source": [
    "items[-1] # using negative indexing"
   ]
  },
  {
   "cell_type": "code",
   "execution_count": null,
   "metadata": {
    "colab": {
     "base_uri": "https://localhost:8080/"
    },
    "id": "asybzC8LAZAa",
    "outputId": "340b13d3-9f72-43e3-a430-c92e58dede09"
   },
   "outputs": [
    {
     "data": {
      "text/plain": [
       "['pasta', 'biscuit', 'veg', 'parle fruity', 'maida', 'chocolate']"
      ]
     },
     "execution_count": 39,
     "metadata": {
      "tags": []
     },
     "output_type": "execute_result"
    }
   ],
   "source": [
    "items = [\"pasta\",\"biscuit\",\"veg\",\"parle fruity\",\"maida\",\"chocolate\"] \n",
    "items"
   ]
  },
  {
   "cell_type": "markdown",
   "metadata": {
    "id": "CQZEdT5aCYwN"
   },
   "source": [
    "**append() - append will add the element in the list at end**"
   ]
  },
  {
   "cell_type": "code",
   "execution_count": null,
   "metadata": {
    "colab": {
     "base_uri": "https://localhost:8080/"
    },
    "id": "WSqrFzPaAZAb",
    "outputId": "03c2f550-ca40-48bc-da59-5d99bb04b5ea"
   },
   "outputs": [
    {
     "data": {
      "text/plain": [
       "['pasta', 'biscuit', 'veg', 'parle fruity', 'maida', 'chocolate', 'butter']"
      ]
     },
     "execution_count": 40,
     "metadata": {
      "tags": []
     },
     "output_type": "execute_result"
    }
   ],
   "source": [
    "# append will add one element to the list at the end\n",
    "items.append(\"butter\")\n",
    "items"
   ]
  },
  {
   "cell_type": "markdown",
   "metadata": {
    "id": "oM8sVAWhCs0b"
   },
   "source": [
    "**insert() - insert can add element at any location**"
   ]
  },
  {
   "cell_type": "code",
   "execution_count": null,
   "metadata": {
    "colab": {
     "base_uri": "https://localhost:8080/"
    },
    "id": "obdAmyWbAZAb",
    "outputId": "c7ad19b6-47b1-483e-8112-ca6e2af656ca"
   },
   "outputs": [
    {
     "name": "stdout",
     "output_type": "stream",
     "text": [
      "['pasta', 'eggs', 'biscuit', 'veg', 'parle fruity', 'maida', 'chocolate', 'butter']\n"
     ]
    }
   ],
   "source": [
    "#if you want to add bread at second position in list : use \"insert\"  method\n",
    "items.insert(1,\"eggs\") # here 1 is index at which we want to add element \n",
    "print(items)"
   ]
  },
  {
   "cell_type": "code",
   "execution_count": null,
   "metadata": {
    "colab": {
     "base_uri": "https://localhost:8080/"
    },
    "id": "p2qTu0WnAZAc",
    "outputId": "4882f209-77d7-4a15-c894-1e873e18a6c6"
   },
   "outputs": [
    {
     "data": {
      "text/plain": [
       "True"
      ]
     },
     "execution_count": 44,
     "metadata": {
      "tags": []
     },
     "output_type": "execute_result"
    }
   ],
   "source": [
    "# checking item in list \n",
    "\"pasta\" in items"
   ]
  },
  {
   "cell_type": "code",
   "execution_count": null,
   "metadata": {
    "colab": {
     "base_uri": "https://localhost:8080/"
    },
    "id": "2CuPvUi8AZAd",
    "outputId": "c86b9c29-3429-422f-dac6-f21e3934ee8d"
   },
   "outputs": [
    {
     "data": {
      "text/plain": [
       "False"
      ]
     },
     "execution_count": 45,
     "metadata": {
      "tags": []
     },
     "output_type": "execute_result"
    }
   ],
   "source": [
    "\"chips\" in items "
   ]
  },
  {
   "cell_type": "code",
   "execution_count": null,
   "metadata": {
    "colab": {
     "base_uri": "https://localhost:8080/"
    },
    "id": "0B3cTRWEAZAd",
    "outputId": "22826d5e-b8ca-482f-cf00-3ab2332bd521"
   },
   "outputs": [
    {
     "name": "stdout",
     "output_type": "stream",
     "text": [
      "['pasta', 'biscuit', 'veg', 'parle fruity', 'maida', 'chocolate', 'butter', 'mango', 'gauva', 'pineapple', 'banana']\n"
     ]
    }
   ],
   "source": [
    "# adding to lists \n",
    "list_1 = ['pasta', 'biscuit','veg', 'parle fruity', 'maida', 'chocolate', 'butter']\n",
    "list_2 = ['mango','gauva','pineapple','banana']\n",
    "new_list = list_1 + list_2\n",
    "print(new_list)"
   ]
  },
  {
   "cell_type": "code",
   "execution_count": null,
   "metadata": {
    "colab": {
     "base_uri": "https://localhost:8080/"
    },
    "id": "8iYJCiNpzH3E",
    "outputId": "b395963c-82e6-438b-8fa6-a661d9cc11e6"
   },
   "outputs": [
    {
     "data": {
      "text/plain": [
       "11"
      ]
     },
     "execution_count": 47,
     "metadata": {
      "tags": []
     },
     "output_type": "execute_result"
    }
   ],
   "source": [
    "# check length of list \n",
    "len(new_list)"
   ]
  },
  {
   "cell_type": "markdown",
   "metadata": {
    "id": "vBKxsENe3PEb"
   },
   "source": [
    "# **Dictionary and Tuple**"
   ]
  },
  {
   "cell_type": "markdown",
   "metadata": {
    "id": "xdtpVtaB3Zip"
   },
   "source": [
    "dictionary is mutable data type and have {key:value} pair format\n",
    "\n",
    "Tuple is immutable data type in python and is faster than list "
   ]
  },
  {
   "cell_type": "code",
   "execution_count": null,
   "metadata": {
    "colab": {
     "base_uri": "https://localhost:8080/"
    },
    "id": "b25nsLjL282o",
    "outputId": "1c948525-b59d-4b4d-c5f0-86717b17eda9"
   },
   "outputs": [
    {
     "data": {
      "text/plain": [
       "{'boni': 1245789865, 'joey': 457896445698, 'tom': 9548786545}"
      ]
     },
     "execution_count": 11,
     "metadata": {
      "tags": []
     },
     "output_type": "execute_result"
    }
   ],
   "source": [
    "#telephone directory using dictionery\n",
    "d={\"tom\":9548786545,\"joey\":457896445698,\"boni\":1245789865}\n",
    "d"
   ]
  },
  {
   "cell_type": "code",
   "execution_count": null,
   "metadata": {
    "colab": {
     "base_uri": "https://localhost:8080/"
    },
    "id": "R_MiUOSJ282u",
    "outputId": "eedb7263-f228-45e8-db7a-75e736bead65"
   },
   "outputs": [
    {
     "data": {
      "text/plain": [
       "dict"
      ]
     },
     "execution_count": 2,
     "metadata": {
      "tags": []
     },
     "output_type": "execute_result"
    }
   ],
   "source": [
    "type(d)"
   ]
  },
  {
   "cell_type": "code",
   "execution_count": null,
   "metadata": {
    "colab": {
     "base_uri": "https://localhost:8080/"
    },
    "id": "KOrN1DAb282v",
    "outputId": "9144eee1-95c6-4add-87ba-ca83b9fc6d61"
   },
   "outputs": [
    {
     "data": {
      "text/plain": [
       "9548786545"
      ]
     },
     "execution_count": 3,
     "metadata": {
      "tags": []
     },
     "output_type": "execute_result"
    }
   ],
   "source": [
    "d[\"tom\"]  # we can acesss values using keys"
   ]
  },
  {
   "cell_type": "code",
   "execution_count": null,
   "metadata": {
    "colab": {
     "base_uri": "https://localhost:8080/"
    },
    "id": "jF72tSHA282x",
    "outputId": "eaf993fe-e262-4f81-a1df-fdb2995345bc"
   },
   "outputs": [
    {
     "data": {
      "text/plain": [
       "dict_keys(['tom', 'joey', 'boni'])"
      ]
     },
     "execution_count": 5,
     "metadata": {
      "tags": []
     },
     "output_type": "execute_result"
    }
   ],
   "source": [
    "d.keys()"
   ]
  },
  {
   "cell_type": "code",
   "execution_count": null,
   "metadata": {
    "colab": {
     "base_uri": "https://localhost:8080/"
    },
    "id": "tlNYfm-6282y",
    "outputId": "b9472186-702d-46e5-9246-da735a3cbab2"
   },
   "outputs": [
    {
     "data": {
      "text/plain": [
       "dict_values([9548786545, 457896445698, 1245789865])"
      ]
     },
     "execution_count": 6,
     "metadata": {
      "tags": []
     },
     "output_type": "execute_result"
    }
   ],
   "source": [
    "d.values()"
   ]
  },
  {
   "cell_type": "code",
   "execution_count": null,
   "metadata": {
    "colab": {
     "base_uri": "https://localhost:8080/"
    },
    "id": "KZmhGCF1282z",
    "outputId": "214b3f30-1689-42a3-8b72-6e6bf0881977"
   },
   "outputs": [
    {
     "name": "stdout",
     "output_type": "stream",
     "text": [
      "{'tom': 9548786545, 'joey': 457896445698, 'boni': 1245789865, 'tomy': 1245986532}\n"
     ]
    }
   ],
   "source": [
    "# adding new element to the dict \n",
    "d[\"tomy\"] = 1245986532\n",
    "print(d)\n",
    "# when we add the item order of all the items changed , hence in dictionary order doesnt matters, because it is storing elements as key value pair"
   ]
  },
  {
   "cell_type": "code",
   "execution_count": null,
   "metadata": {
    "colab": {
     "base_uri": "https://localhost:8080/"
    },
    "id": "waY3SE4K2820",
    "outputId": "ae45ac51-75d6-47fe-a4b1-2a0f675006b5"
   },
   "outputs": [
    {
     "name": "stdout",
     "output_type": "stream",
     "text": [
      "{'joey': 457896445698, 'boni': 1245789865, 'tomy': 1245986532}\n"
     ]
    }
   ],
   "source": [
    "#deleting item from dictionery\n",
    "del d[\"tom\"]\n",
    "print(d)"
   ]
  },
  {
   "cell_type": "code",
   "execution_count": null,
   "metadata": {
    "colab": {
     "base_uri": "https://localhost:8080/"
    },
    "id": "3tkN_PN52821",
    "outputId": "08d28eb1-a77f-40e8-e00a-08e730ee63f0"
   },
   "outputs": [
    {
     "data": {
      "text/plain": [
       "True"
      ]
     },
     "execution_count": 14,
     "metadata": {
      "tags": []
     },
     "output_type": "execute_result"
    }
   ],
   "source": [
    "# cheching element from dict\n",
    " \n",
    "\"boni\" in d"
   ]
  },
  {
   "cell_type": "code",
   "execution_count": null,
   "metadata": {
    "colab": {
     "base_uri": "https://localhost:8080/"
    },
    "id": "t2zxQj5o2822",
    "outputId": "986c34b6-bb9d-42df-9a37-19938c9dcc28"
   },
   "outputs": [
    {
     "data": {
      "text/plain": [
       "False"
      ]
     },
     "execution_count": 15,
     "metadata": {
      "tags": []
     },
     "output_type": "execute_result"
    }
   ],
   "source": [
    "\"mayur\" in d"
   ]
  },
  {
   "cell_type": "code",
   "execution_count": null,
   "metadata": {
    "colab": {
     "base_uri": "https://localhost:8080/"
    },
    "id": "t4uDpr-w2822",
    "outputId": "348d0c11-c674-4504-e263-de6d0e1e3392"
   },
   "outputs": [
    {
     "name": "stdout",
     "output_type": "stream",
     "text": [
      "{}\n"
     ]
    }
   ],
   "source": [
    "#clearing entire data from dict \n",
    "d.clear()\n",
    "print(d)    # delete all data from dict"
   ]
  },
  {
   "cell_type": "markdown",
   "metadata": {
    "id": "6azvD9mF5Aix"
   },
   "source": [
    "**Tuple**"
   ]
  },
  {
   "cell_type": "markdown",
   "metadata": {
    "id": "mkJNmua25ES4"
   },
   "source": [
    "Tuple is list of values grouped together"
   ]
  },
  {
   "cell_type": "code",
   "execution_count": null,
   "metadata": {
    "id": "Igr0iY5q2823"
   },
   "outputs": [],
   "source": [
    "# List: All the values in List have same meaning : Homogeneous\n",
    "# Tuple : All the values in tuple have different meaning : Heterogeneous"
   ]
  },
  {
   "cell_type": "code",
   "execution_count": null,
   "metadata": {
    "id": "vtD9FHZb5RUY"
   },
   "outputs": [],
   "source": [
    "point = (5,15) # here 1 st element is x co-ordinate and 2 nd value is y co-ordinate . Hence both elements have different properties . this is called heterogeneous ."
   ]
  },
  {
   "cell_type": "code",
   "execution_count": null,
   "metadata": {
    "colab": {
     "base_uri": "https://localhost:8080/"
    },
    "id": "SeZxlwU85T2g",
    "outputId": "3380a58f-bd82-4f27-be0d-119a72baef69"
   },
   "outputs": [
    {
     "name": "stdout",
     "output_type": "stream",
     "text": [
      "acessing 1 st element from tuple : 5\n",
      "acessing 2 nd element from tuple : 15\n"
     ]
    }
   ],
   "source": [
    "print(\"acessing 1 st element from tuple :\",point[0])\n",
    "print(\"acessing 2 nd element from tuple :\",point[1])"
   ]
  },
  {
   "cell_type": "code",
   "execution_count": null,
   "metadata": {
    "id": "b0FKH1b16wnR"
   },
   "outputs": [],
   "source": [
    "#examples of  list :\n",
    "\n",
    "name_list=[\"may\",\"john\",\"kito\"] # here every item is name of person\n",
    "\n",
    "expense_list = [12,154,459,456] # every item is expense "
   ]
  },
  {
   "cell_type": "code",
   "execution_count": null,
   "metadata": {
    "id": "pEkJSePa2824"
   },
   "outputs": [],
   "source": [
    "#examples of tuple :\n",
    "\n",
    "point= (12,5) # point x and y coordinate , each value is difference \n",
    "\n",
    "adress= (1820,\"purple street\",\"newyork\") # each item has different meaning "
   ]
  },
  {
   "cell_type": "markdown",
   "metadata": {
    "id": "egfNQ1hkFWBz"
   },
   "source": [
    "# **If_else:**"
   ]
  },
  {
   "cell_type": "markdown",
   "metadata": {
    "id": "ZrowoqelFd_Z"
   },
   "source": [
    "**if else statement is used to check partcular conditions**"
   ]
  },
  {
   "cell_type": "code",
   "execution_count": null,
   "metadata": {
    "id": "AsVcU0VHFNPx"
   },
   "outputs": [],
   "source": [
    "# Checking the number is even or odd"
   ]
  },
  {
   "cell_type": "code",
   "execution_count": null,
   "metadata": {
    "colab": {
     "base_uri": "https://localhost:8080/"
    },
    "id": "2-_kq74NFNP4",
    "outputId": "ee421863-850a-49e2-e4ba-795491f882f5"
   },
   "outputs": [
    {
     "name": "stdout",
     "output_type": "stream",
     "text": [
      "Enter a number: 7\n",
      "The number is odd\n"
     ]
    }
   ],
   "source": [
    "num = int (input(\"Enter a number: \"))\n",
    "\n",
    "if num%2 == 0: # this condition is first check , if this condition is met , then else block is not executed\n",
    "    print(\"The number is even \")\n",
    "else: # if above if block is not executed then else block is executed\n",
    "    print(\"The number is odd\")"
   ]
  },
  {
   "cell_type": "markdown",
   "metadata": {
    "id": "2R4omjORGCHN"
   },
   "source": [
    "write a program that ask user to enter dish name and return \n",
    "the cuisine of dish means chinese , indian etc"
   ]
  },
  {
   "cell_type": "code",
   "execution_count": null,
   "metadata": {
    "colab": {
     "base_uri": "https://localhost:8080/"
    },
    "id": "rvdch1f1FNP8",
    "outputId": "5d1745e0-2b1c-48bc-fcf7-1f63be2b9da6"
   },
   "outputs": [
    {
     "name": "stdout",
     "output_type": "stream",
     "text": [
      "enter a dish :samosa\n",
      "indian\n"
     ]
    }
   ],
   "source": [
    "indian = [\"samosa\",\"puran poli\",\"dal_khichadi\"]\n",
    "chinese = [\"manchov\",\"manchurian\",\"soup\"]\n",
    "italian = [\"pasta\",\"bokov\",\"somun\"]\n",
    "\n",
    "dish = input(\"enter a dish :\")\n",
    "\n",
    "if dish in indian:\n",
    "    print(\"indian\")\n",
    "elif dish in chinese:\n",
    "    print(\"chinese\")\n",
    "elif dish in italian:\n",
    "    print(\"italian\")\n",
    "else:\n",
    "    print(\"out of list\")\n"
   ]
  },
  {
   "cell_type": "markdown",
   "metadata": {
    "id": "8-BE9W_rILd8"
   },
   "source": [
    "# **for loop**"
   ]
  },
  {
   "cell_type": "markdown",
   "metadata": {
    "id": "0CduDJ7oKLu0"
   },
   "source": [
    "**FOR loop is used when you want to do a same peration on a range of things**"
   ]
  },
  {
   "cell_type": "code",
   "execution_count": null,
   "metadata": {
    "id": "zfl4-9SOFEOf"
   },
   "outputs": [],
   "source": [
    "# store monthly expences in a list & find out total expence for all months"
   ]
  },
  {
   "cell_type": "code",
   "execution_count": null,
   "metadata": {
    "colab": {
     "base_uri": "https://localhost:8080/"
    },
    "id": "SOrhQUe1FEOm",
    "outputId": "6553a118-ea38-4542-e2fa-47f20692b87b"
   },
   "outputs": [
    {
     "name": "stdout",
     "output_type": "stream",
     "text": [
      "The total expences will be :  18744\n"
     ]
    }
   ],
   "source": [
    "expenses = [1320,1520,461,800,469,804,964,1256,950,1000,5000,4200]\n",
    "\n",
    "total=0\n",
    "\n",
    "for item in expenses:\n",
    "\n",
    "    total = total + item\n",
    "\n",
    "print(\"The total expences will be : \",total)"
   ]
  },
  {
   "cell_type": "markdown",
   "metadata": {
    "id": "yFdukJuLKuWF"
   },
   "source": [
    "**range(start,end) function**"
   ]
  },
  {
   "cell_type": "code",
   "execution_count": null,
   "metadata": {
    "id": "juEJsYtkFEOr"
   },
   "outputs": [],
   "source": [
    " # remember range only accept number in it "
   ]
  },
  {
   "cell_type": "code",
   "execution_count": null,
   "metadata": {
    "colab": {
     "base_uri": "https://localhost:8080/"
    },
    "id": "LIAlTqXiFEOs",
    "outputId": "1201607b-de0a-4c84-9302-3fbb769cf99f"
   },
   "outputs": [
    {
     "name": "stdout",
     "output_type": "stream",
     "text": [
      "1\n",
      "2\n",
      "3\n",
      "4\n"
     ]
    }
   ],
   "source": [
    "for i in range(1,5):\n",
    "    print(i)"
   ]
  },
  {
   "cell_type": "markdown",
   "metadata": {
    "id": "ttsFgJLyLWwg"
   },
   "source": [
    "sqaure of a numbers in range"
   ]
  },
  {
   "cell_type": "code",
   "execution_count": null,
   "metadata": {
    "colab": {
     "base_uri": "https://localhost:8080/"
    },
    "id": "HEDN9thLFEOs",
    "outputId": "02d6f2fe-7f32-4803-b573-a145f9bc0271"
   },
   "outputs": [
    {
     "name": "stdout",
     "output_type": "stream",
     "text": [
      "1\n",
      "4\n",
      "9\n",
      "16\n",
      "25\n"
     ]
    }
   ],
   "source": [
    "for i in range(1,6):\n",
    "    print(i*i)"
   ]
  },
  {
   "cell_type": "markdown",
   "metadata": {
    "id": "p0Rgz8kDK-TZ"
   },
   "source": [
    "write a table from 11 to 20"
   ]
  },
  {
   "cell_type": "code",
   "execution_count": null,
   "metadata": {
    "colab": {
     "base_uri": "https://localhost:8080/"
    },
    "id": "6kEoGxn_FEOt",
    "outputId": "2cbd0c49-f90b-4f51-d5b4-d16c5881ea78"
   },
   "outputs": [
    {
     "name": "stdout",
     "output_type": "stream",
     "text": [
      "11*1=11\n",
      "11*2=22\n",
      "11*3=33\n",
      "11*4=44\n",
      "11*5=55\n",
      "11*6=66\n",
      "11*7=77\n",
      "11*8=88\n",
      "11*9=99\n",
      "11*10=110\n",
      "12*1=12\n",
      "12*2=24\n",
      "12*3=36\n",
      "12*4=48\n",
      "12*5=60\n",
      "12*6=72\n",
      "12*7=84\n",
      "12*8=96\n",
      "12*9=108\n",
      "12*10=120\n",
      "13*1=13\n",
      "13*2=26\n",
      "13*3=39\n",
      "13*4=52\n",
      "13*5=65\n",
      "13*6=78\n",
      "13*7=91\n",
      "13*8=104\n",
      "13*9=117\n",
      "13*10=130\n",
      "14*1=14\n",
      "14*2=28\n",
      "14*3=42\n",
      "14*4=56\n",
      "14*5=70\n",
      "14*6=84\n",
      "14*7=98\n",
      "14*8=112\n",
      "14*9=126\n",
      "14*10=140\n",
      "15*1=15\n",
      "15*2=30\n",
      "15*3=45\n",
      "15*4=60\n",
      "15*5=75\n",
      "15*6=90\n",
      "15*7=105\n",
      "15*8=120\n",
      "15*9=135\n",
      "15*10=150\n",
      "16*1=16\n",
      "16*2=32\n",
      "16*3=48\n",
      "16*4=64\n",
      "16*5=80\n",
      "16*6=96\n",
      "16*7=112\n",
      "16*8=128\n",
      "16*9=144\n",
      "16*10=160\n",
      "17*1=17\n",
      "17*2=34\n",
      "17*3=51\n",
      "17*4=68\n",
      "17*5=85\n",
      "17*6=102\n",
      "17*7=119\n",
      "17*8=136\n",
      "17*9=153\n",
      "17*10=170\n",
      "18*1=18\n",
      "18*2=36\n",
      "18*3=54\n",
      "18*4=72\n",
      "18*5=90\n",
      "18*6=108\n",
      "18*7=126\n",
      "18*8=144\n",
      "18*9=162\n",
      "18*10=180\n",
      "19*1=19\n",
      "19*2=38\n",
      "19*3=57\n",
      "19*4=76\n",
      "19*5=95\n",
      "19*6=114\n",
      "19*7=133\n",
      "19*8=152\n",
      "19*9=171\n",
      "19*10=190\n",
      "20*1=20\n",
      "20*2=40\n",
      "20*3=60\n",
      "20*4=80\n",
      "20*5=100\n",
      "20*6=120\n",
      "20*7=140\n",
      "20*8=160\n",
      "20*9=180\n",
      "20*10=200\n"
     ]
    }
   ],
   "source": [
    "for i in range(11,21):\n",
    "    for j in range(1,11):\n",
    "        print(f\"{i}*{j}={i*j}\")"
   ]
  },
  {
   "cell_type": "markdown",
   "metadata": {
    "id": "GK7cQ93GMmqt"
   },
   "source": [
    "star pyramid program"
   ]
  },
  {
   "cell_type": "code",
   "execution_count": null,
   "metadata": {
    "colab": {
     "base_uri": "https://localhost:8080/"
    },
    "id": "wciLCWWGFEOv",
    "outputId": "6b0a2198-7985-4cf3-9cbb-844f8da24aee"
   },
   "outputs": [
    {
     "name": "stdout",
     "output_type": "stream",
     "text": [
      "* \n",
      "* * \n",
      "* * * \n",
      "* * * * \n",
      "* * * * * \n"
     ]
    }
   ],
   "source": [
    "for i in range(1,6): \n",
    "    for j in range(1,i+1):\n",
    "        print(\"*\",end=\" \")\n",
    "    print()"
   ]
  },
  {
   "cell_type": "markdown",
   "metadata": {
    "id": "2WmUyT7GN3Nn"
   },
   "source": [
    "**break: using break with for loop**"
   ]
  },
  {
   "cell_type": "markdown",
   "metadata": {
    "id": "f5RHhbjuOxmA"
   },
   "source": [
    "sometime we need to break the for loop , if some condition met , with this , we can save the computation power too"
   ]
  },
  {
   "cell_type": "markdown",
   "metadata": {
    "id": "79N-XiMjMqiI"
   },
   "source": [
    "suppose you have lost the car keys . you have to keep searching it , untill it found . once you found the keys , you have to stop the searching "
   ]
  },
  {
   "cell_type": "code",
   "execution_count": null,
   "metadata": {
    "colab": {
     "base_uri": "https://localhost:8080/"
    },
    "id": "rXMMc6zSFEOw",
    "outputId": "6d725e1c-a6c7-4f33-8018-91e62610d8d6"
   },
   "outputs": [
    {
     "name": "stdout",
     "output_type": "stream",
     "text": [
      "key is not found in garage\n",
      "key is not found in kitchen\n",
      "key is not found in hall\n",
      "key is found in  chair\n"
     ]
    }
   ],
   "source": [
    "key_location = \"chair\" # lets say key is here\n",
    "\n",
    "location = [\"garage\",\"kitchen\",\"hall\",\"chair\",\"living room\",\"bathroom\"] # here I am listing all the location in my house\n",
    "\n",
    "for i in location:\n",
    "    if i== key_location:\n",
    "        print(\"key is found in \",i)\n",
    "        break                         # this will break the statement here \n",
    "    else:\n",
    "        print(\"key is not found in\",i )"
   ]
  },
  {
   "cell_type": "markdown",
   "metadata": {
    "id": "qUEgRbsEOGKL"
   },
   "source": [
    "**continue: using continue with for loop**"
   ]
  },
  {
   "cell_type": "markdown",
   "metadata": {
    "id": "7xW9z2GSOiDP"
   },
   "source": [
    "sometimes we want to skip the operation for particular iteration , at that time we use contniue"
   ]
  },
  {
   "cell_type": "code",
   "execution_count": null,
   "metadata": {
    "colab": {
     "base_uri": "https://localhost:8080/"
    },
    "id": "7qjcM-yqFEOy",
    "outputId": "a2bc771b-67e4-4fd2-c906-fb464f6ce2c0"
   },
   "outputs": [
    {
     "name": "stdout",
     "output_type": "stream",
     "text": [
      "1\n",
      "4\n",
      "9\n",
      "16\n",
      "25\n"
     ]
    }
   ],
   "source": [
    "for i in range(1,6):\n",
    "    print(i*i)"
   ]
  },
  {
   "cell_type": "code",
   "execution_count": null,
   "metadata": {
    "colab": {
     "base_uri": "https://localhost:8080/"
    },
    "id": "V2rM0EZsFEOy",
    "outputId": "888384da-d5ea-4bb9-f6c6-f46ed29914a8"
   },
   "outputs": [
    {
     "name": "stdout",
     "output_type": "stream",
     "text": [
      "1\n",
      "9\n",
      "25\n"
     ]
    }
   ],
   "source": [
    "for i in range(1,6):\n",
    "    if i%2 == 0:\n",
    "        continue      # this will continue the loop and dont print sqaure for even number\n",
    "    print(i*i)"
   ]
  },
  {
   "cell_type": "markdown",
   "metadata": {
    "id": "tkpGeoYFMYMI"
   },
   "source": [
    "# **While loop**"
   ]
  },
  {
   "cell_type": "code",
   "execution_count": null,
   "metadata": {
    "colab": {
     "base_uri": "https://localhost:8080/"
    },
    "id": "2TOkJcT7FEOz",
    "outputId": "88c2c462-a8c6-4561-ae2e-9fa109533f98"
   },
   "outputs": [
    {
     "name": "stdout",
     "output_type": "stream",
     "text": [
      "1\n",
      "2\n",
      "3\n",
      "4\n",
      "5\n"
     ]
    }
   ],
   "source": [
    "i = 1\n",
    "while i<=5:    # while loop take only one condition\n",
    "    print(i)\n",
    "    i=i+1      # counter\n",
    "  "
   ]
  },
  {
   "cell_type": "markdown",
   "metadata": {
    "id": "q4dtuigLPqO4"
   },
   "source": [
    "# **Functions** "
   ]
  },
  {
   "cell_type": "markdown",
   "metadata": {
    "id": "_t0LHBTUr0JY"
   },
   "source": [
    "Function is block of code that performs specific tasks"
   ]
  },
  {
   "cell_type": "markdown",
   "metadata": {
    "id": "z-LnngvAr9sv"
   },
   "source": [
    "function is like washing machine , which take some clothes as input , \n",
    "perform operation(cleaning and drying) on it \n",
    "and gives output "
   ]
  },
  {
   "cell_type": "markdown",
   "metadata": {
    "id": "An1_a1pZsstE"
   },
   "source": [
    "Python functions are used to reduce the repeatability of code"
   ]
  },
  {
   "cell_type": "code",
   "execution_count": null,
   "metadata": {
    "colab": {
     "base_uri": "https://localhost:8080/"
    },
    "id": "isEoGgNCR3lo",
    "outputId": "afd98937-01f8-46b6-9b8f-4dc2aedfbd69"
   },
   "outputs": [
    {
     "name": "stdout",
     "output_type": "stream",
     "text": [
      "15\n"
     ]
    }
   ],
   "source": [
    "# make a function to add two numbers \n",
    "\n",
    "def add(x,y):\n",
    "  total = x+y \n",
    "  return total\n",
    "\n",
    "add_num =  add(7,8)\n",
    "print(add_num)"
   ]
  },
  {
   "cell_type": "code",
   "execution_count": null,
   "metadata": {
    "colab": {
     "base_uri": "https://localhost:8080/"
    },
    "id": "5KvSrYONvWC2",
    "outputId": "449fdd53-b5b1-4fd3-ee06-4f1d4345677b"
   },
   "outputs": [
    {
     "name": "stdout",
     "output_type": "stream",
     "text": [
      "25\n"
     ]
    }
   ],
   "source": [
    "# calling function with named arguments\n",
    "\n",
    "def add(x,y):\n",
    "  total = x+y\n",
    "  return total\n",
    "    \n",
    "addition = add(y = 10 , x = 15) # so it is not necessary to pass first x and then y . with named arg , we can pass numbers without sequence\n",
    "print(addition)"
   ]
  },
  {
   "cell_type": "markdown",
   "metadata": {
    "id": "x4SJz8P0w4aq"
   },
   "source": [
    "**Global and Local variable**"
   ]
  },
  {
   "cell_type": "code",
   "execution_count": null,
   "metadata": {
    "colab": {
     "base_uri": "https://localhost:8080/"
    },
    "id": "rqCHaBJaR3lq",
    "outputId": "28db4d51-c3d4-4f6d-df34-8923bd776e6b"
   },
   "outputs": [
    {
     "name": "stdout",
     "output_type": "stream",
     "text": [
      "total within the function :  30\n",
      "output of a function : 30\n",
      "total outside the function: 0\n"
     ]
    }
   ],
   "source": [
    "total=0 # this is global variable\n",
    "\n",
    "def add(x,y):\n",
    "  total = x*y     # (x,y,total) are called local variable , beacause they have access only within that function\n",
    "  print(\"total within the function : \",total)\n",
    "  return total\n",
    "\n",
    "print(\"output of a function :\",add(y=5,x=6)) # named argument ....we decide the value of x and y\n",
    "\n",
    "print(\"total outside the function:\",total)    # this total is called global variable"
   ]
  },
  {
   "cell_type": "code",
   "execution_count": null,
   "metadata": {
    "colab": {
     "base_uri": "https://localhost:8080/"
    },
    "id": "upLz3GgdR3lr",
    "outputId": "b23e900b-47b9-43e3-d235-ba8853b9f7ed"
   },
   "outputs": [
    {
     "name": "stdout",
     "output_type": "stream",
     "text": [
      "tom's total exp is : 4540\n",
      "joy's total exp is : 8376\n"
     ]
    }
   ],
   "source": [
    "# create a function to calculate total expense of a person \n",
    "\n",
    "tom_exp_list=[1250,456,1598,1236]\n",
    "joy_exp_list=[1456,587,1456,4877]\n",
    "\n",
    "\n",
    "def calculate_total(exp):    #function argument is exp \n",
    "    total=0\n",
    "    for i in exp:\n",
    "        total = total + i\n",
    "    return total             # function return value is total\n",
    "\n",
    "tom_total=calculate_total(tom_exp_list)  # calling function\n",
    "joy_total=calculate_total(joy_exp_list)\n",
    "\n",
    "print(\"tom's total exp is :\",tom_total)\n",
    "print(\"joy's total exp is :\",joy_total)"
   ]
  },
  {
   "cell_type": "markdown",
   "metadata": {
    "id": "sxJnxpNVR3ls"
   },
   "source": [
    "**deault argument**"
   ]
  },
  {
   "cell_type": "code",
   "execution_count": null,
   "metadata": {
    "colab": {
     "base_uri": "https://localhost:8080/"
    },
    "id": "ppzBSAiaR3lt",
    "outputId": "2246d163-a9b8-4256-add9-4a37d4304027"
   },
   "outputs": [
    {
     "name": "stdout",
     "output_type": "stream",
     "text": [
      "7\n"
     ]
    }
   ],
   "source": [
    "def add(x,y=2): # here y is default argument , hence while calling this function we can only pass value of x .\n",
    "  total = x + y\n",
    "  return total\n",
    "\n",
    "add_num = add(5)\n",
    "print(add_num)   # here we are providing only one argument beacause second is default i.e. y=2"
   ]
  },
  {
   "cell_type": "markdown",
   "metadata": {
    "id": "NicIrZRzzbgq"
   },
   "source": [
    "**doc string**\n",
    "\n",
    "it is a documentation string used to describe about the function written . \n",
    "\n",
    "it is written in triple  quotes"
   ]
  },
  {
   "cell_type": "code",
   "execution_count": null,
   "metadata": {
    "colab": {
     "base_uri": "https://localhost:8080/"
    },
    "id": "TBkI6OuKzK6B",
    "outputId": "bb2b0eeb-7404-40dc-b172-b528107b4230"
   },
   "outputs": [
    {
     "name": "stdout",
     "output_type": "stream",
     "text": [
      "10\n"
     ]
    }
   ],
   "source": [
    "def add(x,y=2): \n",
    "\n",
    "  ''' this is doc string which explains \n",
    "  that how this function works . \n",
    "  This functio  takes 2 arguments and add that 2 numbers \n",
    "  '''\n",
    "  total = x + y\n",
    "  return total\n",
    "\n",
    "add_num = add(8)\n",
    "print(add_num)  "
   ]
  },
  {
   "cell_type": "markdown",
   "metadata": {
    "id": "ztWbTPh67yrP"
   },
   "source": [
    "# **Using pip** "
   ]
  },
  {
   "cell_type": "markdown",
   "metadata": {
    "id": "WaTHHn6j73bW"
   },
   "source": [
    "to install any library , just run \n",
    "\n",
    "!pip install package_name"
   ]
  },
  {
   "cell_type": "markdown",
   "metadata": {
    "id": "SBgECecf8Aem"
   },
   "source": [
    "ex . \n",
    "\n",
    "!pip install pandas"
   ]
  },
  {
   "cell_type": "markdown",
   "metadata": {
    "id": "vgp5LQ9m8HRM"
   },
   "source": [
    "you can go to pandas pypi (python package index) , to check the installation "
   ]
  },
  {
   "cell_type": "markdown",
   "metadata": {
    "id": "1kf1pCWV8hfQ"
   },
   "source": [
    "to uninstall packages use :\n",
    "\n",
    "! pip uninstall package_name"
   ]
  },
  {
   "cell_type": "markdown",
   "metadata": {
    "id": "Aw9N_51w8rHF"
   },
   "source": [
    "ex.\n",
    "\n",
    "!pip uninstall pandas"
   ]
  },
  {
   "cell_type": "markdown",
   "metadata": {
    "id": "TGh8kZRh9Y0t"
   },
   "source": [
    "# Using Modules in python "
   ]
  },
  {
   "cell_type": "markdown",
   "metadata": {
    "id": "ksyd4KC-9cBR"
   },
   "source": [
    "Module is code written by somebody else , and we can easily import that code in our code "
   ]
  },
  {
   "cell_type": "code",
   "execution_count": null,
   "metadata": {
    "id": "gkXCU6XO2yYN"
   },
   "outputs": [],
   "source": [
    "# lets see \"math\" module"
   ]
  },
  {
   "cell_type": "code",
   "execution_count": null,
   "metadata": {
    "id": "-yHaRmOT2yPC"
   },
   "outputs": [],
   "source": [
    "import math "
   ]
  },
  {
   "cell_type": "code",
   "execution_count": null,
   "metadata": {
    "colab": {
     "base_uri": "https://localhost:8080/"
    },
    "id": "y7vjFtkw2yDw",
    "outputId": "3948f8aa-c876-49f0-ee84-84d6c64cef30"
   },
   "outputs": [
    {
     "data": {
      "text/plain": [
       "3.141592653589793"
      ]
     },
     "execution_count": 29,
     "metadata": {
      "tags": []
     },
     "output_type": "execute_result"
    }
   ],
   "source": [
    "math.pi"
   ]
  },
  {
   "cell_type": "code",
   "execution_count": null,
   "metadata": {
    "colab": {
     "base_uri": "https://localhost:8080/"
    },
    "id": "tY2z1NjP9zFA",
    "outputId": "8724d825-0514-4cca-fd16-80a7148d5e34"
   },
   "outputs": [
    {
     "name": "stdout",
     "output_type": "stream",
     "text": [
      "Area of circle:  78.53981633974483\n"
     ]
    }
   ],
   "source": [
    "#lets calculate area of a circle \n",
    "radius = 5 \n",
    "area_of_circle = math.pi * radius *radius \n",
    "print(\"Area of circle: \",area_of_circle)"
   ]
  },
  {
   "cell_type": "code",
   "execution_count": null,
   "metadata": {
    "id": "DuGaas_8-EdB"
   },
   "outputs": [],
   "source": [
    "import time"
   ]
  },
  {
   "cell_type": "code",
   "execution_count": null,
   "metadata": {
    "colab": {
     "base_uri": "https://localhost:8080/"
    },
    "id": "88NCZVSZ-IHs",
    "outputId": "278d8cd1-9187-4dff-8d9d-ede5a3db54a0"
   },
   "outputs": [
    {
     "name": "stdout",
     "output_type": "stream",
     "text": [
      "time t1 :  1622054418.6177006\n",
      "time t2 :  1622054423.624466\n"
     ]
    }
   ],
   "source": [
    "t1 = time.time() # start time\n",
    "print(\"time t1 : \",t1)\n",
    "\n",
    "time.sleep(5) # lets take a 5 sec break for a program \n",
    "\n",
    "t2 = time.time()\n",
    "print(\"time t2 : \",t2)"
   ]
  },
  {
   "cell_type": "code",
   "execution_count": null,
   "metadata": {
    "id": "tITIttOL-iBX"
   },
   "outputs": [],
   "source": [
    "import calendar"
   ]
  },
  {
   "cell_type": "code",
   "execution_count": null,
   "metadata": {
    "colab": {
     "base_uri": "https://localhost:8080/"
    },
    "id": "H8GridFR-q9K",
    "outputId": "f35bc5be-215a-4918-db50-c0936ed6721e"
   },
   "outputs": [
    {
     "name": "stdout",
     "output_type": "stream",
     "text": [
      "      May 2021\n",
      "Mo Tu We Th Fr Sa Su\n",
      "                1  2\n",
      " 3  4  5  6  7  8  9\n",
      "10 11 12 13 14 15 16\n",
      "17 18 19 20 21 22 23\n",
      "24 25 26 27 28 29 30\n",
      "31\n",
      "\n"
     ]
    }
   ],
   "source": [
    "cal = calendar.month(2021,5)\n",
    "print(cal)"
   ]
  },
  {
   "cell_type": "code",
   "execution_count": null,
   "metadata": {
    "colab": {
     "base_uri": "https://localhost:8080/"
    },
    "id": "5fSVec2p-5e9",
    "outputId": "3ebf2bdd-4721-4b6a-8dbe-01945c33751a"
   },
   "outputs": [
    {
     "data": {
      "text/plain": [
       "True"
      ]
     },
     "execution_count": 38,
     "metadata": {
      "tags": []
     },
     "output_type": "execute_result"
    }
   ],
   "source": [
    "#check leap year or not \n",
    "calendar.isleap(2020)"
   ]
  },
  {
   "cell_type": "code",
   "execution_count": null,
   "metadata": {
    "colab": {
     "base_uri": "https://localhost:8080/"
    },
    "id": "sq3Fylv5_INX",
    "outputId": "20d12d9f-01f8-47a2-da8c-648b95246d28"
   },
   "outputs": [
    {
     "data": {
      "text/plain": [
       "False"
      ]
     },
     "execution_count": 39,
     "metadata": {
      "tags": []
     },
     "output_type": "execute_result"
    }
   ],
   "source": [
    "#check leap year or not \n",
    "calendar.isleap(2021)"
   ]
  },
  {
   "cell_type": "code",
   "execution_count": null,
   "metadata": {
    "id": "0KSMumuF_LO_"
   },
   "outputs": [],
   "source": []
  }
 ],
 "metadata": {
  "colab": {
   "collapsed_sections": [],
   "name": "Python Basics.ipynb",
   "provenance": [],
   "toc_visible": true
  },
  "kernelspec": {
   "display_name": "Python 3",
   "language": "python",
   "name": "python3"
  },
  "language_info": {
   "codemirror_mode": {
    "name": "ipython",
    "version": 3
   },
   "file_extension": ".py",
   "mimetype": "text/x-python",
   "name": "python",
   "nbconvert_exporter": "python",
   "pygments_lexer": "ipython3",
   "version": "3.7.6"
  }
 },
 "nbformat": 4,
 "nbformat_minor": 1
}
